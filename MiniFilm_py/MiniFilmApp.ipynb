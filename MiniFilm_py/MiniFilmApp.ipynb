{
 "cells": [
  {
   "cell_type": "code",
   "execution_count": 1,
   "id": "5046b251-01a5-46b2-9add-03a0089297d7",
   "metadata": {},
   "outputs": [],
   "source": [
    "import certifi\n",
    "ca = certifi.where()\n",
    "\n",
    "from pymongo.mongo_client import MongoClient\n",
    "from pprint import pprint\n",
    "\n",
    "uri = \"mongodb+srv://rossalbritten:<password>@cloudcomputingbbk.kosa4kb.mongodb.net/?retryWrites=true&w=majority\"\n",
    "# Create a new client and connect to the server\n",
    "conn = MongoClient(uri, tlsCAFile=ca)\n",
    "\n"
   ]
  },
  {
   "cell_type": "code",
   "execution_count": 2,
   "id": "01888f78-d08d-4d64-a610-fcc2e241c114",
   "metadata": {},
   "outputs": [],
   "source": [
    "col_films = conn.MiniFilmsApp.films"
   ]
  },
  {
   "cell_type": "code",
   "execution_count": 3,
   "id": "56c892ad-9d0d-47d3-b39c-040c775645d4",
   "metadata": {},
   "outputs": [
    {
     "name": "stdout",
     "output_type": "stream",
     "text": [
      "{'_id': ObjectId('65296daf5be4def003b61203'),\n",
      " 'film_link': 'https://film.com',\n",
      " 'film_name': 'Umbrella',\n",
      " 'film_type': 'Animated short film',\n",
      " 'film_year': '2021'}\n"
     ]
    }
   ],
   "source": [
    "pprint(col_films.find_one({\"film_name\": \"Umbrella\"}))\n",
    "\n",
    "##for document in col_films.find():\n",
    "    ##print (document)"
   ]
  },
  {
   "cell_type": "code",
   "execution_count": 4,
   "id": "20f2bedc-5568-47c3-b9bf-ffc819fcb91c",
   "metadata": {},
   "outputs": [],
   "source": [
    "col_users = conn.MiniFilmsApp.users"
   ]
  },
  {
   "cell_type": "code",
   "execution_count": 5,
   "id": "a4e5c114-03ec-4a41-b078-1808bdf2983a",
   "metadata": {},
   "outputs": [
    {
     "name": "stdout",
     "output_type": "stream",
     "text": [
      "Record added :)\n"
     ]
    }
   ],
   "source": [
    "user1 = {\n",
    "\t\t\"user_name\":\"Tom Jones\",\n",
    "\t\t\"user_age\":44,\n",
    "\t\t\"user_location\":\"London\"\n",
    "\t\t}\n",
    "\n",
    "col_users.insert_one(user1)\n",
    "print(\"Record added :)\")"
   ]
  },
  {
   "cell_type": "code",
   "execution_count": 6,
   "id": "f43747d8-0211-49f3-ba3d-092e733ce2b9",
   "metadata": {},
   "outputs": [
    {
     "name": "stdout",
     "output_type": "stream",
     "text": [
      "{'_id': ObjectId('652c2ec6703b49c78a995b04'),\n",
      " 'user_age': 44,\n",
      " 'user_location': 'London',\n",
      " 'user_name': 'Tom Jones'}\n"
     ]
    }
   ],
   "source": [
    "pprint(col_users.find_one({'user_age': 44}))"
   ]
  },
  {
   "cell_type": "code",
   "execution_count": 7,
   "id": "c4f1381f-a56e-4ee6-9b31-5770c7968bcd",
   "metadata": {},
   "outputs": [
    {
     "data": {
      "text/plain": [
       "<pymongo.results.InsertManyResult at 0x107557f40>"
      ]
     },
     "execution_count": 7,
     "metadata": {},
     "output_type": "execute_result"
    }
   ],
   "source": [
    "user2 = {\n",
    "\t\t\"user_name\":\"Jane Williams\",\n",
    "\t\t\"user_age\":50,\n",
    "\t\t\"user_location\":\"London\"\n",
    "\t\t}\n",
    "\n",
    "user3 = {\n",
    "\t\t\"user_name\":\"Kate Johnson\",\n",
    "\t\t\"user_age\":35,\n",
    "\t\t\"user_location\":\"Brighton\"\n",
    "\t\t}\n",
    "\n",
    "col_users.insert_many([user2, user3])"
   ]
  },
  {
   "cell_type": "code",
   "execution_count": 8,
   "id": "b4337b0a-fb80-4b7b-a78e-f4e12963b859",
   "metadata": {},
   "outputs": [
    {
     "name": "stdout",
     "output_type": "stream",
     "text": [
      "{'_id': ObjectId('652c2ec6703b49c78a995b04'),\n",
      " 'user_age': 44,\n",
      " 'user_location': 'London',\n",
      " 'user_name': 'Tom Jones'}\n"
     ]
    }
   ],
   "source": [
    "pprint(col_users.find_one())"
   ]
  },
  {
   "cell_type": "code",
   "execution_count": 9,
   "id": "182dfdfb-7ba8-4e02-a905-803a3a09348a",
   "metadata": {},
   "outputs": [
    {
     "data": {
      "text/plain": [
       "{'_id': ObjectId('652c2ec6703b49c78a995b04'),\n",
       " 'user_name': 'Tom Jones',\n",
       " 'user_location': 'London'}"
      ]
     },
     "execution_count": 9,
     "metadata": {},
     "output_type": "execute_result"
    }
   ],
   "source": [
    "col_users.find_one({},{\"user_name\": 1, \"user_location\":1})"
   ]
  },
  {
   "cell_type": "code",
   "execution_count": 10,
   "id": "1b265f3b-ccc8-44c8-b633-7f2e16d4283a",
   "metadata": {},
   "outputs": [
    {
     "name": "stdout",
     "output_type": "stream",
     "text": [
      "{'_id': ObjectId('652c2ec6703b49c78a995b04'), 'user_name': 'Tom Jones', 'user_age': 44, 'user_location': 'London'}\n",
      "{'_id': ObjectId('652c2f0f703b49c78a995b05'), 'user_name': 'Jane Williams', 'user_age': 50, 'user_location': 'London'}\n",
      "{'_id': ObjectId('652c2f0f703b49c78a995b06'), 'user_name': 'Kate Johnson', 'user_age': 35, 'user_location': 'Brighton'}\n"
     ]
    }
   ],
   "source": [
    "for record in col_users.find():\n",
    "  print(record)"
   ]
  },
  {
   "cell_type": "code",
   "execution_count": 11,
   "id": "892ff8fe-f329-4cd8-aba5-c3337821094c",
   "metadata": {},
   "outputs": [
    {
     "name": "stdout",
     "output_type": "stream",
     "text": [
      "{'_id': ObjectId('652c2f0f703b49c78a995b05'), 'user_name': 'Jane Williams', 'user_age': 50, 'user_location': 'London'}\n",
      "{'_id': ObjectId('652c2ec6703b49c78a995b04'), 'user_name': 'Tom Jones', 'user_age': 44, 'user_location': 'London'}\n",
      "{'_id': ObjectId('652c2f0f703b49c78a995b06'), 'user_name': 'Kate Johnson', 'user_age': 35, 'user_location': 'Brighton'}\n"
     ]
    }
   ],
   "source": [
    "results = col_users.find().sort(\"user_age\", -1)\n",
    "for user in results:\n",
    "  print(user)\n"
   ]
  },
  {
   "cell_type": "code",
   "execution_count": 12,
   "id": "d452968a-77d4-467b-857c-6a7bb4239225",
   "metadata": {},
   "outputs": [
    {
     "name": "stdout",
     "output_type": "stream",
     "text": [
      "{'_id': ObjectId('652c2f0f703b49c78a995b05'), 'user_name': 'Jane Williams', 'user_age': 50, 'user_location': 'London'}\n"
     ]
    }
   ],
   "source": [
    "doc = col_users.find().sort(\"user_age\", -1).limit(1)\n",
    "\n",
    "print(doc[0])"
   ]
  },
  {
   "cell_type": "code",
   "execution_count": 13,
   "id": "251a2aa9-c297-4587-bf08-20f7df0c42bd",
   "metadata": {},
   "outputs": [
    {
     "name": "stdout",
     "output_type": "stream",
     "text": [
      "{'_id': ObjectId('652c2f0f703b49c78a995b05'), 'user_name': 'Jane Williams', 'user_age': 50, 'user_location': 'London'}\n"
     ]
    }
   ],
   "source": [
    "results = col_users.find({\"user_age\": {\"$gt\":45}},{})\n",
    "for user in results:\n",
    "  print(user)"
   ]
  },
  {
   "cell_type": "code",
   "execution_count": 14,
   "id": "6ca16857-12e5-45b0-b9b4-a012fc6558a3",
   "metadata": {},
   "outputs": [
    {
     "name": "stdout",
     "output_type": "stream",
     "text": [
      "{'user_name': 'Jane Williams', 'user_age': 50, 'user_location': 'London'}\n"
     ]
    }
   ],
   "source": [
    "results = col_users.find({\"user_age\": {\"$gt\":45}},{\"_id\": 0, \"user_name\": 1, \"user_age\": 1, \"user_location\":1})\n",
    "for user in results:\n",
    "  print(user)"
   ]
  },
  {
   "cell_type": "code",
   "execution_count": 15,
   "id": "60f5993c-6562-42fa-84ff-dcc75e37f4bc",
   "metadata": {},
   "outputs": [
    {
     "name": "stdout",
     "output_type": "stream",
     "text": [
      "{'user_name': 'Tom Jones', 'user_location': 'London'}\n",
      "{'user_name': 'Jane Williams', 'user_location': 'London'}\n"
     ]
    }
   ],
   "source": [
    "res = col_users.find({\"user_location\": {\"$eq\":\"London\"}},{\"_id\": 0,\"user_name\": 1, \"user_location\":1})\n",
    "for record in res:\n",
    "  print(record)"
   ]
  },
  {
   "cell_type": "code",
   "execution_count": 17,
   "id": "bb7fb86d-04a6-48ca-bdb6-e69bfa0ee9a1",
   "metadata": {},
   "outputs": [
    {
     "name": "stdout",
     "output_type": "stream",
     "text": [
      "{'_id': 'Brighton', 'num_instances': 1}\n",
      "{'_id': 'London', 'num_instances': 2}\n"
     ]
    }
   ],
   "source": [
    "agg_result = col_users.aggregate(\n",
    "    [{\n",
    "    \"$group\" : \n",
    "        {\"_id\" : \"$user_location\", \n",
    "         \"num_instances\" : {\"$sum\" : 1}\n",
    "         }}\n",
    "    ])\n",
    "\n",
    "for record in agg_result:\n",
    "  print(record)"
   ]
  },
  {
   "cell_type": "code",
   "execution_count": 18,
   "id": "f6af8b51-3de1-40d0-b9fd-c0965f643259",
   "metadata": {},
   "outputs": [
    {
     "name": "stdout",
     "output_type": "stream",
     "text": [
      "{'_id': ObjectId('652c2ec6703b49c78a995b04'), 'user_name': 'Tom Jones', 'user_age': 44, 'user_location': 'London'}\n",
      "{'_id': ObjectId('652c2f0f703b49c78a995b05'), 'user_name': 'Jane Williams', 'user_age': 50, 'user_location': 'London'}\n"
     ]
    }
   ],
   "source": [
    "import pymongo\n",
    "pipeline = [\n",
    "{\n",
    "\t      \"$match\": {\n",
    "\t         \"user_location\": \"London\"\n",
    "\t      }\n",
    "\t   },\n",
    "\t   {\n",
    "\t      \"$sort\": {\n",
    "\t         \"user_age\": pymongo.ASCENDING\n",
    "\t      }\n",
    "\t   },\n",
    "\t]\n",
    "results = col_users.aggregate(pipeline)\n",
    "\n",
    "for record in results:\n",
    "  print(record)"
   ]
  },
  {
   "cell_type": "code",
   "execution_count": 19,
   "id": "04c3d9d2-8795-45b3-97ae-2597af67057e",
   "metadata": {},
   "outputs": [
    {
     "name": "stdout",
     "output_type": "stream",
     "text": [
      "{'_id': ObjectId('652c2f0f703b49c78a995b05'), 'user_name': 'Jane Williams', 'user_age': 50, 'user_location': 'London'}\n"
     ]
    }
   ],
   "source": [
    "stage_match_location = {\n",
    "\t   \"$match\": {\n",
    "\t         \"user_location\": \"London\"\n",
    "\t   }\n",
    "\t}\n",
    "\n",
    "stage_sort_age_descending = {\n",
    "\t   \"$sort\": { \"user_age\": pymongo.DESCENDING }\n",
    "\t}\n",
    "\n",
    "stage_limit_1 = { \"$limit\": 1 }\n",
    "\t\n",
    "pipeline = [\n",
    "\t   stage_match_location,\n",
    "\t   stage_sort_age_descending,\n",
    "\t   stage_limit_1,\n",
    "\t]\n",
    "\n",
    "results = col_users.aggregate(pipeline)\n",
    "\n",
    "for record in results:\n",
    "  print(record)"
   ]
  },
  {
   "cell_type": "code",
   "execution_count": 20,
   "id": "26fb39e1-c980-46d2-adb8-90f9bc7d9290",
   "metadata": {},
   "outputs": [
    {
     "data": {
      "text/plain": [
       "<pymongo.results.InsertOneResult at 0x107557490>"
      ]
     },
     "execution_count": 20,
     "metadata": {},
     "output_type": "execute_result"
    }
   ],
   "source": [
    "user4 = {\n",
    "\t\t\"user_name\":\"Dan Berry\",\n",
    "\t\t\"user_age\":64,\n",
    "\t\t\"user_location\":\"London\"\n",
    "\t\t}\n",
    "\n",
    "col_users.insert_one(user4)"
   ]
  },
  {
   "cell_type": "code",
   "execution_count": 21,
   "id": "7f4902e7-bb73-4e7d-8ff5-b2ac8b5b352e",
   "metadata": {},
   "outputs": [
    {
     "name": "stdout",
     "output_type": "stream",
     "text": [
      "{'_id': ObjectId('652c315f703b49c78a995b07'), 'user_name': 'Dan Berry', 'user_age': 64, 'user_location': 'London'}\n"
     ]
    }
   ],
   "source": [
    "res = col_users.find_one({\"user_name\": {\"$eq\":\"Dan Berry\"}})\n",
    "print(res)"
   ]
  },
  {
   "cell_type": "code",
   "execution_count": 22,
   "id": "384d2238-6dda-4999-beed-41105e62248c",
   "metadata": {},
   "outputs": [
    {
     "data": {
      "text/plain": [
       "<pymongo.results.InsertOneResult at 0x10777b370>"
      ]
     },
     "execution_count": 22,
     "metadata": {},
     "output_type": "execute_result"
    }
   ],
   "source": [
    "from bson.objectid import ObjectId\n",
    "\n",
    "# The _id of Dan to use it as a reference'\n",
    "\n",
    "user_id = res[\"_id\"]\n",
    "\n",
    "film1 = {\n",
    "\t\t\"film_name=\":\"WinDUP\",\n",
    "\t\t\"film_type\":\"Animated Short Film\",\n",
    "\t\t\"film_year\":\"2021\",\n",
    "    \"film_link\":\"https://youtu.be/efGqe1j3RNk\",\n",
    "    \"film_user_id\":ObjectId(user_id)\n",
    "\t\t}\n",
    "\n",
    "conn.MiniFilmsApp.films.insert_one(film1)"
   ]
  },
  {
   "cell_type": "code",
   "execution_count": 23,
   "id": "7a21685d-bdd7-4431-9ed3-77bba2676d00",
   "metadata": {},
   "outputs": [
    {
     "name": "stdout",
     "output_type": "stream",
     "text": [
      "{'FILMS': [{'_id': ObjectId('652c31d2703b49c78a995b08'),\n",
      "            'film_link': 'https://youtu.be/efGqe1j3RNk',\n",
      "            'film_name=': 'WinDUP',\n",
      "            'film_type': 'Animated Short Film',\n",
      "            'film_user_id': ObjectId('652c315f703b49c78a995b07'),\n",
      "            'film_year': '2021'}],\n",
      " '_id': ObjectId('652c315f703b49c78a995b07'),\n",
      " 'user_age': 64,\n",
      " 'user_location': 'London',\n",
      " 'user_name': 'Dan Berry'}\n"
     ]
    }
   ],
   "source": [
    "#lookup usage\n",
    "res = col_users.aggregate([\n",
    "                {\n",
    "                    \"$lookup\":\n",
    "                    {\n",
    "                        \"from\": \"films\",\n",
    "                        \"localField\": \"_id\",\n",
    "                        \"foreignField\": \"film_user_id\",\n",
    "                        \"as\": \"FILMS\"\n",
    "                    }\n",
    "                }\n",
    "            ])\n",
    "\n",
    "for i in res:\n",
    "  # Print only the records that match (users with associated films)\n",
    "  if len(i['FILMS'])!=0:\n",
    "    pprint(i)"
   ]
  },
  {
   "cell_type": "code",
   "execution_count": 24,
   "id": "811218bc-132d-44dd-8162-97e416630fea",
   "metadata": {},
   "outputs": [
    {
     "data": {
      "text/plain": [
       "<pymongo.results.InsertOneResult at 0x1075c5e70>"
      ]
     },
     "execution_count": 24,
     "metadata": {},
     "output_type": "execute_result"
    }
   ],
   "source": [
    "from bson.objectid import ObjectId\n",
    "film2 = {\n",
    "\t\t\"film_name=\":\"Here's the Plan\",\n",
    "\t\t\"film_type\":\"Animated Short Film\",\n",
    "\t\t\"film_year\":\"2017\",\n",
    "    \"film_link\":\"https://youtu.be/5Zqmt1H35fs\",\n",
    "    \"film_user_id\":ObjectId(user_id)\n",
    "\t\t}\n",
    "conn.MiniFilms.films.insert_one(film2)"
   ]
  },
  {
   "cell_type": "code",
   "execution_count": 25,
   "id": "9dc1db42-7cf4-4727-87b4-7168147f3052",
   "metadata": {},
   "outputs": [
    {
     "name": "stdout",
     "output_type": "stream",
     "text": [
      "User data:\n",
      "{'_id': ObjectId('652c2ec6703b49c78a995b04'), 'user_name': 'Tom Jones', 'user_age': 44, 'user_location': 'London', 'DATA': []}\n",
      "{'_id': ObjectId('652c2f0f703b49c78a995b05'), 'user_name': 'Jane Williams', 'user_age': 50, 'user_location': 'London', 'DATA': []}\n",
      "{'_id': ObjectId('652c315f703b49c78a995b07'), 'user_name': 'Dan Berry', 'user_age': 64, 'user_location': 'London', 'DATA': [{'_id': ObjectId('652c31d2703b49c78a995b08'), 'film_name=': 'WinDUP', 'film_type': 'Animated Short Film', 'film_year': '2021', 'film_link': 'https://youtu.be/efGqe1j3RNk', 'film_user_id': ObjectId('652c315f703b49c78a995b07')}]}\n"
     ]
    }
   ],
   "source": [
    "p1 ={\n",
    "    \"$lookup\":\n",
    "    {\n",
    "      \"from\": \"films\",\n",
    "      \"localField\": \"_id\",\n",
    "      \"foreignField\": \"film_user_id\",\n",
    "      \"as\": \"DATA\"\n",
    "      }\n",
    "    }\n",
    "\n",
    "p2={\"$match\": {\n",
    "\t         \"user_location\": {\"$eq\":\"London\"}\n",
    "\t      }\n",
    "}\n",
    "\n",
    "p3={\"$match\": {\n",
    "\t         \"user_age\": {\"$gt\":40}\n",
    "\t      }\n",
    "}\n",
    "\n",
    "pipeline = [\n",
    "            p1,\n",
    "            p2,\n",
    "            p3\n",
    "]\n",
    "results = col_users.aggregate(pipeline)\n",
    "\n",
    "print(\"User data:\")\n",
    "for record in results:\n",
    "  print(record)"
   ]
  },
  {
   "cell_type": "code",
   "execution_count": 26,
   "id": "59db54c5-f943-4e37-b21c-ccc2fc2214be",
   "metadata": {},
   "outputs": [
    {
     "name": "stdout",
     "output_type": "stream",
     "text": [
      "{'_id': ObjectId('652c315f703b49c78a995b07'), 'user_name': 'Dan Berry', 'user_location': 'London'}\n",
      "{'_id': ObjectId('652c315f703b49c78a995b07'), 'user_name': 'Dan Berry', 'user_location': 'Bournemouth'}\n",
      "1 documents updated.\n"
     ]
    }
   ],
   "source": [
    "myquery = { \"user_name\": \"Dan Berry\" }\n",
    "newvalues = { \"$set\": { \"user_location\": \"Bournemouth\" } }\n",
    "\n",
    "res = col_users.find({\"user_name\": \"Dan Berry\" },{\"user_name\": 1, \"user_location\":1})\n",
    "for i in res:\n",
    "  print(i)\n",
    "\n",
    "x = col_users.update_many(myquery, newvalues) # or update_one\n",
    "\n",
    "res = col_users.find({\"user_name\": \"Dan Berry\" },{\"user_name\": 1, \"user_location\":1})\n",
    "for i in res:\n",
    "  print(i)\n",
    "\n",
    "print(x.modified_count, \"documents updated.\")"
   ]
  },
  {
   "cell_type": "code",
   "execution_count": 27,
   "id": "1ff56510-ba48-4321-a82c-9104c2417199",
   "metadata": {},
   "outputs": [
    {
     "name": "stdout",
     "output_type": "stream",
     "text": [
      "{'_id': ObjectId('652c315f703b49c78a995b07'), 'user_name': 'Dan Berry', 'user_age': 64, 'user_location': 'Bournemouth'}\n"
     ]
    }
   ],
   "source": [
    "myquery = { \"user_location\": { \"$regex\": \"^Bourne\" } }\n",
    "results = col_users.find(myquery)\n",
    "for user in results:\n",
    "  print(user)"
   ]
  },
  {
   "cell_type": "code",
   "execution_count": 28,
   "id": "af163220-b826-4304-867f-80632190853c",
   "metadata": {},
   "outputs": [],
   "source": [
    "myquery = { \"user_name\": \"Dan Berry\"}\n",
    "\n",
    "x = col_users.delete_many(myquery)"
   ]
  },
  {
   "cell_type": "code",
   "execution_count": 29,
   "id": "73d2f4d0-d6d1-4556-aacf-f7fa7edd32d3",
   "metadata": {},
   "outputs": [
    {
     "name": "stdout",
     "output_type": "stream",
     "text": [
      "{'_id': ObjectId('652c2ec6703b49c78a995b04'), 'user_name': 'Tom Jones', 'user_age': 44, 'user_location': 'London'}\n",
      "{'_id': ObjectId('652c2f0f703b49c78a995b05'), 'user_name': 'Jane Williams', 'user_age': 50, 'user_location': 'London'}\n",
      "{'_id': ObjectId('652c2f0f703b49c78a995b06'), 'user_name': 'Kate Johnson', 'user_age': 35, 'user_location': 'Brighton'}\n"
     ]
    }
   ],
   "source": [
    "res = col_users.find()\n",
    "for i in res:\n",
    "  print(i)"
   ]
  }
 ],
 "metadata": {
  "kernelspec": {
   "display_name": "Python 3 (ipykernel)",
   "language": "python",
   "name": "python3"
  },
  "language_info": {
   "codemirror_mode": {
    "name": "ipython",
    "version": 3
   },
   "file_extension": ".py",
   "mimetype": "text/x-python",
   "name": "python",
   "nbconvert_exporter": "python",
   "pygments_lexer": "ipython3",
   "version": "3.11.3"
  }
 },
 "nbformat": 4,
 "nbformat_minor": 5
}
